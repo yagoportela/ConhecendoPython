{
 "cells": [
  {
   "cell_type": "code",
   "execution_count": 1,
   "id": "2aff4b48",
   "metadata": {},
   "outputs": [],
   "source": [
    "# imports\n",
    "import pandas as pd"
   ]
  },
  {
   "cell_type": "code",
   "execution_count": 2,
   "id": "35c4975f-3872-4135-9f9b-6dfacc42a8d0",
   "metadata": {},
   "outputs": [],
   "source": [
    "# Capturando excel\n",
    "tabela_vendas = pd.read_excel('../Arquivos/Vendas.xlsx')\n",
    "pd.set_option('display.max_columns', None)# Pegar todas as linhas do excel"
   ]
  },
  {
   "cell_type": "code",
   "execution_count": 3,
   "id": "94d8d4a3",
   "metadata": {},
   "outputs": [],
   "source": [
    "# Calculando\n",
    "faturamento = tabela_vendas[['ID Loja', 'Valor Final']].groupby('ID Loja').sum().reset_index()\n",
    "quantidade = tabela_vendas[['ID Loja', 'Quantidade']].groupby('ID Loja').sum().reset_index()\n",
    "ticket_medio = (faturamento['Valor Final'] /quantidade['Quantidade']).to_frame().reset_index()"
   ]
  },
  {
   "cell_type": "code",
   "execution_count": 4,
   "id": "64427f55",
   "metadata": {},
   "outputs": [
    {
     "data": {
      "text/html": [
       "<div>\n",
       "<style scoped>\n",
       "    .dataframe tbody tr th:only-of-type {\n",
       "        vertical-align: middle;\n",
       "    }\n",
       "\n",
       "    .dataframe tbody tr th {\n",
       "        vertical-align: top;\n",
       "    }\n",
       "\n",
       "    .dataframe thead th {\n",
       "        text-align: right;\n",
       "    }\n",
       "</style>\n",
       "<table border=\"1\" class=\"dataframe\">\n",
       "  <thead>\n",
       "    <tr style=\"text-align: right;\">\n",
       "      <th></th>\n",
       "      <th>ID Loja</th>\n",
       "      <th>Valor Final</th>\n",
       "    </tr>\n",
       "  </thead>\n",
       "  <tbody>\n",
       "    <tr>\n",
       "      <th>0</th>\n",
       "      <td>Bourbon Shopping SP</td>\n",
       "      <td>1726110</td>\n",
       "    </tr>\n",
       "    <tr>\n",
       "      <th>1</th>\n",
       "      <td>Center Shopping Uberlândia</td>\n",
       "      <td>1668921</td>\n",
       "    </tr>\n",
       "    <tr>\n",
       "      <th>2</th>\n",
       "      <td>Iguatemi Campinas</td>\n",
       "      <td>1762419</td>\n",
       "    </tr>\n",
       "    <tr>\n",
       "      <th>3</th>\n",
       "      <td>Iguatemi Esplanada</td>\n",
       "      <td>1699681</td>\n",
       "    </tr>\n",
       "    <tr>\n",
       "      <th>4</th>\n",
       "      <td>Norte Shopping</td>\n",
       "      <td>1711968</td>\n",
       "    </tr>\n",
       "  </tbody>\n",
       "</table>\n",
       "</div>"
      ],
      "text/plain": [
       "                      ID Loja  Valor Final\n",
       "0         Bourbon Shopping SP      1726110\n",
       "1  Center Shopping Uberlândia      1668921\n",
       "2           Iguatemi Campinas      1762419\n",
       "3          Iguatemi Esplanada      1699681\n",
       "4              Norte Shopping      1711968"
      ]
     },
     "execution_count": 4,
     "metadata": {},
     "output_type": "execute_result"
    }
   ],
   "source": [
    "faturamento.head() # 5 primeiras linhas"
   ]
  },
  {
   "cell_type": "code",
   "execution_count": 5,
   "id": "5febdb98",
   "metadata": {},
   "outputs": [
    {
     "data": {
      "text/html": [
       "<div>\n",
       "<style scoped>\n",
       "    .dataframe tbody tr th:only-of-type {\n",
       "        vertical-align: middle;\n",
       "    }\n",
       "\n",
       "    .dataframe tbody tr th {\n",
       "        vertical-align: top;\n",
       "    }\n",
       "\n",
       "    .dataframe thead th {\n",
       "        text-align: right;\n",
       "    }\n",
       "</style>\n",
       "<table border=\"1\" class=\"dataframe\">\n",
       "  <thead>\n",
       "    <tr style=\"text-align: right;\">\n",
       "      <th></th>\n",
       "      <th>ID Loja</th>\n",
       "      <th>Valor Final</th>\n",
       "    </tr>\n",
       "  </thead>\n",
       "  <tbody>\n",
       "    <tr>\n",
       "      <th>20</th>\n",
       "      <td>Shopping Morumbi</td>\n",
       "      <td>1586444</td>\n",
       "    </tr>\n",
       "    <tr>\n",
       "      <th>21</th>\n",
       "      <td>Shopping Recife</td>\n",
       "      <td>1624879</td>\n",
       "    </tr>\n",
       "    <tr>\n",
       "      <th>22</th>\n",
       "      <td>Shopping SP Market</td>\n",
       "      <td>1721763</td>\n",
       "    </tr>\n",
       "    <tr>\n",
       "      <th>23</th>\n",
       "      <td>Shopping União de Osasco</td>\n",
       "      <td>1663770</td>\n",
       "    </tr>\n",
       "    <tr>\n",
       "      <th>24</th>\n",
       "      <td>Shopping Vila Velha</td>\n",
       "      <td>1731167</td>\n",
       "    </tr>\n",
       "  </tbody>\n",
       "</table>\n",
       "</div>"
      ],
      "text/plain": [
       "                     ID Loja  Valor Final\n",
       "20          Shopping Morumbi      1586444\n",
       "21           Shopping Recife      1624879\n",
       "22        Shopping SP Market      1721763\n",
       "23  Shopping União de Osasco      1663770\n",
       "24       Shopping Vila Velha      1731167"
      ]
     },
     "execution_count": 5,
     "metadata": {},
     "output_type": "execute_result"
    }
   ],
   "source": [
    "faturamento.tail() # 5 ultimas linhas"
   ]
  },
  {
   "cell_type": "code",
   "execution_count": 6,
   "id": "2458ad8a",
   "metadata": {},
   "outputs": [
    {
     "data": {
      "text/plain": [
       "'[{\"ID Loja\":\"Bourbon Shopping SP\",\"Valor Final\":1726110},{\"ID Loja\":\"Center Shopping Uberl\\\\u00e2ndia\",\"Valor Final\":1668921},{\"ID Loja\":\"Iguatemi Campinas\",\"Valor Final\":1762419},{\"ID Loja\":\"Iguatemi Esplanada\",\"Valor Final\":1699681},{\"ID Loja\":\"Norte Shopping\",\"Valor Final\":1711968},{\"ID Loja\":\"Novo Shopping Ribeir\\\\u00e3o Preto\",\"Valor Final\":1678225},{\"ID Loja\":\"Palladium Shopping Curitiba\",\"Valor Final\":1721120},{\"ID Loja\":\"Parque Dom Pedro Shopping\",\"Valor Final\":1631630},{\"ID Loja\":\"Passei das \\\\u00c1guas Shopping\",\"Valor Final\":1649014},{\"ID Loja\":\"Ribeir\\\\u00e3o Shopping\",\"Valor Final\":1707122},{\"ID Loja\":\"Rio Mar Recife\",\"Valor Final\":1722766},{\"ID Loja\":\"Rio Mar Shopping Fortaleza\",\"Valor Final\":1698430},{\"ID Loja\":\"Salvador Shopping\",\"Valor Final\":1646739},{\"ID Loja\":\"Shopping Barra\",\"Valor Final\":1653103},{\"ID Loja\":\"Shopping Center Interlagos\",\"Valor Final\":1640486},{\"ID Loja\":\"Shopping Center Leste Aricanduva\",\"Valor Final\":1682870},{\"ID Loja\":\"Shopping Eldorado\",\"Valor Final\":1648111},{\"ID Loja\":\"Shopping Ibirapuera\",\"Valor Final\":1635060},{\"ID Loja\":\"Shopping Iguatemi Fortaleza\",\"Valor Final\":1674824},{\"ID Loja\":\"Shopping Midway Mall\",\"Valor Final\":1590441},{\"ID Loja\":\"Shopping Morumbi\",\"Valor Final\":1586444},{\"ID Loja\":\"Shopping Recife\",\"Valor Final\":1624879},{\"ID Loja\":\"Shopping SP Market\",\"Valor Final\":1721763},{\"ID Loja\":\"Shopping Uni\\\\u00e3o de Osasco\",\"Valor Final\":1663770},{\"ID Loja\":\"Shopping Vila Velha\",\"Valor Final\":1731167}]'"
      ]
     },
     "execution_count": 6,
     "metadata": {},
     "output_type": "execute_result"
    }
   ],
   "source": [
    "faturamento[['ID Loja', 'Valor Final']].to_json(orient=\"records\")"
   ]
  },
  {
   "cell_type": "code",
   "execution_count": 7,
   "id": "78d8e6e9",
   "metadata": {},
   "outputs": [
    {
     "data": {
      "text/html": [
       "<div>\n",
       "<style scoped>\n",
       "    .dataframe tbody tr th:only-of-type {\n",
       "        vertical-align: middle;\n",
       "    }\n",
       "\n",
       "    .dataframe tbody tr th {\n",
       "        vertical-align: top;\n",
       "    }\n",
       "\n",
       "    .dataframe thead th {\n",
       "        text-align: right;\n",
       "    }\n",
       "</style>\n",
       "<table border=\"1\" class=\"dataframe\">\n",
       "  <thead>\n",
       "    <tr style=\"text-align: right;\">\n",
       "      <th></th>\n",
       "      <th>ID Loja</th>\n",
       "      <th>Valor Final</th>\n",
       "    </tr>\n",
       "  </thead>\n",
       "  <tbody>\n",
       "    <tr>\n",
       "      <th>2</th>\n",
       "      <td>Iguatemi Campinas</td>\n",
       "      <td>1762419</td>\n",
       "    </tr>\n",
       "    <tr>\n",
       "      <th>3</th>\n",
       "      <td>Iguatemi Esplanada</td>\n",
       "      <td>1699681</td>\n",
       "    </tr>\n",
       "    <tr>\n",
       "      <th>4</th>\n",
       "      <td>Norte Shopping</td>\n",
       "      <td>1711968</td>\n",
       "    </tr>\n",
       "  </tbody>\n",
       "</table>\n",
       "</div>"
      ],
      "text/plain": [
       "              ID Loja  Valor Final\n",
       "2   Iguatemi Campinas      1762419\n",
       "3  Iguatemi Esplanada      1699681\n",
       "4      Norte Shopping      1711968"
      ]
     },
     "execution_count": 7,
     "metadata": {},
     "output_type": "execute_result"
    }
   ],
   "source": [
    "faturamento[2:5]"
   ]
  },
  {
   "cell_type": "code",
   "execution_count": 8,
   "id": "c2a488e0",
   "metadata": {},
   "outputs": [
    {
     "data": {
      "text/plain": [
       "array([ 0,  1,  2,  3,  4,  5,  6,  7,  8,  9, 10, 11, 12, 13, 14, 15, 16,\n",
       "       17, 18, 19, 20, 21, 22, 23, 24])"
      ]
     },
     "execution_count": 8,
     "metadata": {},
     "output_type": "execute_result"
    }
   ],
   "source": [
    "faturamento.index.values # imprime os indices da cada linha"
   ]
  },
  {
   "cell_type": "code",
   "execution_count": 9,
   "id": "14b02616",
   "metadata": {},
   "outputs": [
    {
     "data": {
      "text/plain": [
       "Index(['ID Loja', 'Valor Final'], dtype='object')"
      ]
     },
     "execution_count": 9,
     "metadata": {},
     "output_type": "execute_result"
    }
   ],
   "source": [
    "faturamento.columns # imprime as colunas"
   ]
  },
  {
   "cell_type": "markdown",
   "id": "d9b2012c",
   "metadata": {},
   "source": [
    "Describe:\n",
    "- count: Número de observações não nulas. Neste caso, seria o número total de lojas listadas.\n",
    "- mean: Média dos valores. Seria a média dos valores finais de todas as lojas.\n",
    "- std: Desvio padrão dos valores. Isso indica o quanto os valores finais variam.\n",
    "- min: Valor mínimo. Seria o menor valor final entre todas as lojas.\n",
    "- 25%: Primeiro quartil, também conhecido como o 25º percentil. 25% dos valores finais são menores que este valor.\n",
    "- 50%: Mediana, também conhecida como o 50º percentil. 50% dos valores finais são menores que este valor.\n",
    "- 75%: Terceiro quartil, também conhecido como o 75º percentil. 75% dos valores finais são menores que este valor.\n",
    "- max: Valor máximo. Seria o maior valor final entre todas as lojas."
   ]
  },
  {
   "cell_type": "code",
   "execution_count": 10,
   "id": "6405dae8",
   "metadata": {},
   "outputs": [
    {
     "data": {
      "text/html": [
       "<div>\n",
       "<style scoped>\n",
       "    .dataframe tbody tr th:only-of-type {\n",
       "        vertical-align: middle;\n",
       "    }\n",
       "\n",
       "    .dataframe tbody tr th {\n",
       "        vertical-align: top;\n",
       "    }\n",
       "\n",
       "    .dataframe thead th {\n",
       "        text-align: right;\n",
       "    }\n",
       "</style>\n",
       "<table border=\"1\" class=\"dataframe\">\n",
       "  <thead>\n",
       "    <tr style=\"text-align: right;\">\n",
       "      <th></th>\n",
       "      <th>Valor Final</th>\n",
       "    </tr>\n",
       "  </thead>\n",
       "  <tbody>\n",
       "    <tr>\n",
       "      <th>count</th>\n",
       "      <td>2.500000e+01</td>\n",
       "    </tr>\n",
       "    <tr>\n",
       "      <th>mean</th>\n",
       "      <td>1.675083e+06</td>\n",
       "    </tr>\n",
       "    <tr>\n",
       "      <th>std</th>\n",
       "      <td>4.502066e+04</td>\n",
       "    </tr>\n",
       "    <tr>\n",
       "      <th>min</th>\n",
       "      <td>1.586444e+06</td>\n",
       "    </tr>\n",
       "    <tr>\n",
       "      <th>25%</th>\n",
       "      <td>1.646739e+06</td>\n",
       "    </tr>\n",
       "    <tr>\n",
       "      <th>50%</th>\n",
       "      <td>1.674824e+06</td>\n",
       "    </tr>\n",
       "    <tr>\n",
       "      <th>75%</th>\n",
       "      <td>1.711968e+06</td>\n",
       "    </tr>\n",
       "    <tr>\n",
       "      <th>max</th>\n",
       "      <td>1.762419e+06</td>\n",
       "    </tr>\n",
       "  </tbody>\n",
       "</table>\n",
       "</div>"
      ],
      "text/plain": [
       "        Valor Final\n",
       "count  2.500000e+01\n",
       "mean   1.675083e+06\n",
       "std    4.502066e+04\n",
       "min    1.586444e+06\n",
       "25%    1.646739e+06\n",
       "50%    1.674824e+06\n",
       "75%    1.711968e+06\n",
       "max    1.762419e+06"
      ]
     },
     "execution_count": 10,
     "metadata": {},
     "output_type": "execute_result"
    }
   ],
   "source": [
    "faturamento.describe()"
   ]
  },
  {
   "cell_type": "code",
   "execution_count": 11,
   "id": "2192c0f9",
   "metadata": {},
   "outputs": [
    {
     "data": {
      "text/html": [
       "<div>\n",
       "<style scoped>\n",
       "    .dataframe tbody tr th:only-of-type {\n",
       "        vertical-align: middle;\n",
       "    }\n",
       "\n",
       "    .dataframe tbody tr th {\n",
       "        vertical-align: top;\n",
       "    }\n",
       "\n",
       "    .dataframe thead th {\n",
       "        text-align: right;\n",
       "    }\n",
       "</style>\n",
       "<table border=\"1\" class=\"dataframe\">\n",
       "  <thead>\n",
       "    <tr style=\"text-align: right;\">\n",
       "      <th></th>\n",
       "      <th>0</th>\n",
       "      <th>1</th>\n",
       "      <th>2</th>\n",
       "      <th>3</th>\n",
       "      <th>4</th>\n",
       "      <th>5</th>\n",
       "      <th>6</th>\n",
       "      <th>7</th>\n",
       "      <th>8</th>\n",
       "      <th>9</th>\n",
       "      <th>10</th>\n",
       "      <th>11</th>\n",
       "      <th>12</th>\n",
       "      <th>13</th>\n",
       "      <th>14</th>\n",
       "      <th>15</th>\n",
       "      <th>16</th>\n",
       "      <th>17</th>\n",
       "      <th>18</th>\n",
       "      <th>19</th>\n",
       "      <th>20</th>\n",
       "      <th>21</th>\n",
       "      <th>22</th>\n",
       "      <th>23</th>\n",
       "      <th>24</th>\n",
       "    </tr>\n",
       "  </thead>\n",
       "  <tbody>\n",
       "    <tr>\n",
       "      <th>ID Loja</th>\n",
       "      <td>Bourbon Shopping SP</td>\n",
       "      <td>Center Shopping Uberlândia</td>\n",
       "      <td>Iguatemi Campinas</td>\n",
       "      <td>Iguatemi Esplanada</td>\n",
       "      <td>Norte Shopping</td>\n",
       "      <td>Novo Shopping Ribeirão Preto</td>\n",
       "      <td>Palladium Shopping Curitiba</td>\n",
       "      <td>Parque Dom Pedro Shopping</td>\n",
       "      <td>Passei das Águas Shopping</td>\n",
       "      <td>Ribeirão Shopping</td>\n",
       "      <td>Rio Mar Recife</td>\n",
       "      <td>Rio Mar Shopping Fortaleza</td>\n",
       "      <td>Salvador Shopping</td>\n",
       "      <td>Shopping Barra</td>\n",
       "      <td>Shopping Center Interlagos</td>\n",
       "      <td>Shopping Center Leste Aricanduva</td>\n",
       "      <td>Shopping Eldorado</td>\n",
       "      <td>Shopping Ibirapuera</td>\n",
       "      <td>Shopping Iguatemi Fortaleza</td>\n",
       "      <td>Shopping Midway Mall</td>\n",
       "      <td>Shopping Morumbi</td>\n",
       "      <td>Shopping Recife</td>\n",
       "      <td>Shopping SP Market</td>\n",
       "      <td>Shopping União de Osasco</td>\n",
       "      <td>Shopping Vila Velha</td>\n",
       "    </tr>\n",
       "    <tr>\n",
       "      <th>Valor Final</th>\n",
       "      <td>1726110</td>\n",
       "      <td>1668921</td>\n",
       "      <td>1762419</td>\n",
       "      <td>1699681</td>\n",
       "      <td>1711968</td>\n",
       "      <td>1678225</td>\n",
       "      <td>1721120</td>\n",
       "      <td>1631630</td>\n",
       "      <td>1649014</td>\n",
       "      <td>1707122</td>\n",
       "      <td>1722766</td>\n",
       "      <td>1698430</td>\n",
       "      <td>1646739</td>\n",
       "      <td>1653103</td>\n",
       "      <td>1640486</td>\n",
       "      <td>1682870</td>\n",
       "      <td>1648111</td>\n",
       "      <td>1635060</td>\n",
       "      <td>1674824</td>\n",
       "      <td>1590441</td>\n",
       "      <td>1586444</td>\n",
       "      <td>1624879</td>\n",
       "      <td>1721763</td>\n",
       "      <td>1663770</td>\n",
       "      <td>1731167</td>\n",
       "    </tr>\n",
       "  </tbody>\n",
       "</table>\n",
       "</div>"
      ],
      "text/plain": [
       "                              0                           1   \\\n",
       "ID Loja      Bourbon Shopping SP  Center Shopping Uberlândia   \n",
       "Valor Final              1726110                     1668921   \n",
       "\n",
       "                            2                   3               4   \\\n",
       "ID Loja      Iguatemi Campinas  Iguatemi Esplanada  Norte Shopping   \n",
       "Valor Final            1762419             1699681         1711968   \n",
       "\n",
       "                                       5                            6   \\\n",
       "ID Loja      Novo Shopping Ribeirão Preto  Palladium Shopping Curitiba   \n",
       "Valor Final                       1678225                      1721120   \n",
       "\n",
       "                                    7                          8   \\\n",
       "ID Loja      Parque Dom Pedro Shopping  Passei das Águas Shopping   \n",
       "Valor Final                    1631630                    1649014   \n",
       "\n",
       "                            9               10                          11  \\\n",
       "ID Loja      Ribeirão Shopping  Rio Mar Recife  Rio Mar Shopping Fortaleza   \n",
       "Valor Final            1707122         1722766                     1698430   \n",
       "\n",
       "                            12              13                          14  \\\n",
       "ID Loja      Salvador Shopping  Shopping Barra  Shopping Center Interlagos   \n",
       "Valor Final            1646739         1653103                     1640486   \n",
       "\n",
       "                                           15                 16  \\\n",
       "ID Loja      Shopping Center Leste Aricanduva  Shopping Eldorado   \n",
       "Valor Final                           1682870            1648111   \n",
       "\n",
       "                              17                           18  \\\n",
       "ID Loja      Shopping Ibirapuera  Shopping Iguatemi Fortaleza   \n",
       "Valor Final              1635060                      1674824   \n",
       "\n",
       "                               19                20               21  \\\n",
       "ID Loja      Shopping Midway Mall  Shopping Morumbi  Shopping Recife   \n",
       "Valor Final               1590441           1586444          1624879   \n",
       "\n",
       "                             22                        23                   24  \n",
       "ID Loja      Shopping SP Market  Shopping União de Osasco  Shopping Vila Velha  \n",
       "Valor Final             1721763                   1663770              1731167  "
      ]
     },
     "execution_count": 11,
     "metadata": {},
     "output_type": "execute_result"
    }
   ],
   "source": [
    "faturamento.T # Inverte colunas e linhas"
   ]
  },
  {
   "cell_type": "code",
   "execution_count": 12,
   "id": "6b8d8f5b",
   "metadata": {},
   "outputs": [],
   "source": [
    "faturamento.to_csv(\"teste.csv\")"
   ]
  }
 ],
 "metadata": {
  "kernelspec": {
   "display_name": "Python 3 (ipykernel)",
   "language": "python",
   "name": "python3"
  },
  "language_info": {
   "codemirror_mode": {
    "name": "ipython",
    "version": 3
   },
   "file_extension": ".py",
   "mimetype": "text/x-python",
   "name": "python",
   "nbconvert_exporter": "python",
   "pygments_lexer": "ipython3",
   "version": "3.10.8"
  }
 },
 "nbformat": 4,
 "nbformat_minor": 5
}
