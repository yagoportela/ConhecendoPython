{
 "cells": [
  {
   "cell_type": "code",
   "execution_count": 1,
   "metadata": {},
   "outputs": [],
   "source": [
    "import numpy as np"
   ]
  },
  {
   "cell_type": "markdown",
   "metadata": {},
   "source": [
    "A fórmula para uma população é:\n",
    "\n",
    "$$ \\sigma = \\sqrt{\\frac{\\sum_{i=1}^{N} (x_i - \\mu)^2}{N}} $$\n",
    "\n",
    "E a fórmula para uma amostra é:\n",
    "\n",
    "$$ s = \\sqrt{\\frac{ \\sum_{i=1}^{n} (x_i - \\bar{x})^2}{n-1}} $$\n",
    "\n",
    "Onde:\n",
    "- $\\sigma$ é o desvio padrão da população\n",
    "- $s$ é o desvio padrão da amostra\n",
    "- $N$ é o número de observações na população\n",
    "- $n$ é o número de observações na amostra\n",
    "- $x_i$ é cada valor individual\n",
    "- $\\mu$ é a média da população\n",
    "- $\\bar{x}$ é a média da amostra\n",
    "\n",
    "Primeiro, calculamos a média x da amostra:\n",
    " - x=1+2+3+4+5​=3/5\n",
    " - x=3\n",
    "\n",
    "Em seguida, subtraímos a média de cada observação e elevamos o resultado ao quadrado:\n",
    "\n",
    " - (1−3)²=4\n",
    " - (2−3)²=1\n",
    " - (3−3)²=0\n",
    " - (4−3)²=1\n",
    " - (5−3)²=4\n",
    "\n",
    "$$ s = \\sqrt{\\frac{(1-3)^2+(2-3)^2+(3-3)^2+(4-3)^2+(5-3)^2}{5-1}} $$\n",
    "\n",
    "Somamos esses valores: 4+1+0+1+4=10\n",
    "$$ s = \\sqrt{\\frac{4+1+0+1+4}{5-1}} $$\n",
    "\n",
    "Dividimos a soma pelo número de observações menos 1 (neste caso, 5 - 1 = 4): 10/4​=2.5\n",
    "\n",
    "$$ s = \\sqrt{\\frac{10}{5-1}} $$\n",
    "\n",
    "$$ s = \\sqrt{\\frac{10}{4}} $$\n",
    "\n",
    "$$ s = \\sqrt{2.5} $$\n",
    "\n",
    "Finalmente, tiramos a raiz quadrada do resultado para obter o desvio padrão da amostra:\n",
    "\n",
    "$$ \\sqrt{ 2.5​ } =1.5811388300841898 $$ \n",
    "\n",
    "Portanto, o desvio padrão da amostra para a lista de números [1, 2, 3, 4, 5] é aproximadamente 1.5811388300841898.\n"
   ]
  },
  {
   "cell_type": "code",
   "execution_count": 2,
   "metadata": {},
   "outputs": [
    {
     "name": "stdout",
     "output_type": "stream",
     "text": [
      "A média é: 3.0\n",
      "O desvio padrão da população é: 1.4142135623730951\n",
      "O desvio padrão da amostra é: 1.5811388300841898\n"
     ]
    }
   ],
   "source": [
    "numeros = [1, 2, 3, 4, 5]\n",
    "\n",
    "# Calculando a média\n",
    "media = np.mean(numeros)\n",
    "print(f'A média é: {media}')\n",
    "\n",
    "# Calculando o desvio padrão da população\n",
    "desvio_padrao_populacao = np.std(numeros)\n",
    "print(f'O desvio padrão da população é: {desvio_padrao_populacao}')\n",
    "\n",
    "# Calculando o desvio padrão da amostra\n",
    "desvio_padrao_amostra = np.std(numeros, ddof=1)\n",
    "print(f'O desvio padrão da amostra é: {desvio_padrao_amostra}')"
   ]
  }
 ],
 "metadata": {
  "kernelspec": {
   "display_name": ".venv",
   "language": "python",
   "name": "python3"
  },
  "language_info": {
   "codemirror_mode": {
    "name": "ipython",
    "version": 3
   },
   "file_extension": ".py",
   "mimetype": "text/x-python",
   "name": "python",
   "nbconvert_exporter": "python",
   "pygments_lexer": "ipython3",
   "version": "3.10.8"
  }
 },
 "nbformat": 4,
 "nbformat_minor": 2
}
