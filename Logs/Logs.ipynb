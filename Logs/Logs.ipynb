{
 "cells": [
  {
   "cell_type": "code",
   "execution_count": 4,
   "id": "2aff4b48",
   "metadata": {},
   "outputs": [],
   "source": [
    "# imports\n",
    "import pandas as pd\n",
    "import logging\n",
    "import logging.config\n",
    "import json"
   ]
  },
  {
   "cell_type": "code",
   "execution_count": 5,
   "id": "85e676db-d48e-46e1-ae05-cd8a4c7bde53",
   "metadata": {},
   "outputs": [],
   "source": [
    "# configurando\n",
    "logging.config.fileConfig('logging.conf')\n",
    "logger = logging.getLogger('simpleExample')"
   ]
  },
  {
   "cell_type": "code",
   "execution_count": 6,
   "id": "35c4975f-3872-4135-9f9b-6dfacc42a8d0",
   "metadata": {},
   "outputs": [],
   "source": [
    "# Capturando excel\n",
    "tabela_vendas = pd.read_excel('../Arquivos/Vendas.xlsx')\n",
    "pd.set_option('display.max_columns', None)# Pegar todas as linhas do excel"
   ]
  },
  {
   "cell_type": "code",
   "execution_count": 7,
   "id": "94d8d4a3",
   "metadata": {},
   "outputs": [],
   "source": [
    "# Calculando\n",
    "faturamento = tabela_vendas[['ID Loja', 'Valor Final']].groupby('ID Loja').sum().reset_index()\n",
    "quantidade = tabela_vendas[['ID Loja', 'Quantidade']].groupby('ID Loja').sum().reset_index()\n",
    "ticket_medio = (faturamento['Valor Final'] /quantidade['Quantidade']).to_frame().reset_index()"
   ]
  },
  {
   "cell_type": "code",
   "execution_count": 8,
   "id": "7a68304b",
   "metadata": {},
   "outputs": [],
   "source": [
    "# transformando em string json\n",
    "faturamento_json = faturamento.to_json(orient=\"records\")\n",
    "quantidade_json = quantidade.to_json(orient=\"records\")\n",
    "ticket_medio_json = ticket_medio.to_json(orient=\"records\")"
   ]
  },
  {
   "cell_type": "code",
   "execution_count": 9,
   "id": "ccb911f3",
   "metadata": {},
   "outputs": [
    {
     "name": "stdout",
     "output_type": "stream",
     "text": [
      "                             ID Loja  Valor Final\n",
      "0                Bourbon Shopping SP      1726110\n",
      "1         Center Shopping Uberlândia      1668921\n",
      "2                  Iguatemi Campinas      1762419\n",
      "3                 Iguatemi Esplanada      1699681\n",
      "4                     Norte Shopping      1711968\n",
      "5       Novo Shopping Ribeirão Preto      1678225\n",
      "6        Palladium Shopping Curitiba      1721120\n",
      "7          Parque Dom Pedro Shopping      1631630\n",
      "8          Passei das Águas Shopping      1649014\n",
      "9                  Ribeirão Shopping      1707122\n",
      "10                    Rio Mar Recife      1722766\n",
      "11        Rio Mar Shopping Fortaleza      1698430\n",
      "12                 Salvador Shopping      1646739\n",
      "13                    Shopping Barra      1653103\n",
      "14        Shopping Center Interlagos      1640486\n",
      "15  Shopping Center Leste Aricanduva      1682870\n",
      "16                 Shopping Eldorado      1648111\n",
      "17               Shopping Ibirapuera      1635060\n",
      "18       Shopping Iguatemi Fortaleza      1674824\n",
      "19              Shopping Midway Mall      1590441\n",
      "20                  Shopping Morumbi      1586444\n",
      "21                   Shopping Recife      1624879\n",
      "22                Shopping SP Market      1721763\n",
      "23          Shopping União de Osasco      1663770\n",
      "24               Shopping Vila Velha      1731167\n"
     ]
    }
   ],
   "source": [
    "print(faturamento)"
   ]
  },
  {
   "cell_type": "code",
   "execution_count": 10,
   "id": "d1f9a457",
   "metadata": {},
   "outputs": [
    {
     "name": "stdout",
     "output_type": "stream",
     "text": [
      "                             ID Loja  Quantidade\n",
      "0                Bourbon Shopping SP        8863\n",
      "1         Center Shopping Uberlândia        8627\n",
      "2                  Iguatemi Campinas        8935\n",
      "3                 Iguatemi Esplanada        8580\n",
      "4                     Norte Shopping        9014\n",
      "5       Novo Shopping Ribeirão Preto        8751\n",
      "6        Palladium Shopping Curitiba        9091\n",
      "7          Parque Dom Pedro Shopping        8388\n",
      "8          Passei das Águas Shopping        8618\n",
      "9                  Ribeirão Shopping        8825\n",
      "10                    Rio Mar Recife        8863\n",
      "11        Rio Mar Shopping Fortaleza        8937\n",
      "12                 Salvador Shopping        8698\n",
      "13                    Shopping Barra        8638\n",
      "14        Shopping Center Interlagos        8675\n",
      "15  Shopping Center Leste Aricanduva        8938\n",
      "16                 Shopping Eldorado        8719\n",
      "17               Shopping Ibirapuera        8723\n",
      "18       Shopping Iguatemi Fortaleza        8629\n",
      "19              Shopping Midway Mall        8206\n",
      "20                  Shopping Morumbi        8508\n",
      "21                   Shopping Recife        8581\n",
      "22                Shopping SP Market        8927\n",
      "23          Shopping União de Osasco        8730\n",
      "24               Shopping Vila Velha        9224\n"
     ]
    }
   ],
   "source": [
    "print(quantidade)"
   ]
  },
  {
   "cell_type": "code",
   "execution_count": 11,
   "id": "c5280a26",
   "metadata": {},
   "outputs": [
    {
     "name": "stdout",
     "output_type": "stream",
     "text": [
      "    index           0\n",
      "0       0  194.754598\n",
      "1       1  193.453228\n",
      "2       2  197.248909\n",
      "3       3  198.098019\n",
      "4       4  189.923231\n",
      "5       5  191.775226\n",
      "6       6  189.321307\n",
      "7       7  194.519552\n",
      "8       8  191.345324\n",
      "9       9  193.441586\n",
      "10     10  194.377299\n",
      "11     11  190.044758\n",
      "12     12  189.323868\n",
      "13     13  191.375666\n",
      "14     14  189.105014\n",
      "15     15  188.282614\n",
      "16     16  189.025232\n",
      "17     17  187.442394\n",
      "18     18  194.092479\n",
      "19     19  193.814404\n",
      "20     20  186.464974\n",
      "21     21  189.357767\n",
      "22     22  192.871401\n",
      "23     23  190.580756\n",
      "24     24  187.680724\n"
     ]
    }
   ],
   "source": [
    "print(ticket_medio)"
   ]
  },
  {
   "cell_type": "code",
   "execution_count": 12,
   "id": "df52cbe2",
   "metadata": {},
   "outputs": [
    {
     "name": "stdout",
     "output_type": "stream",
     "text": [
      "{\"message\": \"[{'ID Loja': 'Bourbon Shopping SP', 'Valor Final': 1726110}, {'ID Loja': 'Center Shopping Uberl\\u00e2ndia', 'Valor Final': 1668921}, {'ID Loja': 'Iguatemi Campinas', 'Valor Final': 1762419}, {'ID Loja': 'Iguatemi Esplanada', 'Valor Final': 1699681}, {'ID Loja': 'Norte Shopping', 'Valor Final': 1711968}, {'ID Loja': 'Novo Shopping Ribeir\\u00e3o Preto', 'Valor Final': 1678225}, {'ID Loja': 'Palladium Shopping Curitiba', 'Valor Final': 1721120}, {'ID Loja': 'Parque Dom Pedro Shopping', 'Valor Final': 1631630}, {'ID Loja': 'Passei das \\u00c1guas Shopping', 'Valor Final': 1649014}, {'ID Loja': 'Ribeir\\u00e3o Shopping', 'Valor Final': 1707122}, {'ID Loja': 'Rio Mar Recife', 'Valor Final': 1722766}, {'ID Loja': 'Rio Mar Shopping Fortaleza', 'Valor Final': 1698430}, {'ID Loja': 'Salvador Shopping', 'Valor Final': 1646739}, {'ID Loja': 'Shopping Barra', 'Valor Final': 1653103}, {'ID Loja': 'Shopping Center Interlagos', 'Valor Final': 1640486}, {'ID Loja': 'Shopping Center Leste Aricanduva', 'Valor Final': 1682870}, {'ID Loja': 'Shopping Eldorado', 'Valor Final': 1648111}, {'ID Loja': 'Shopping Ibirapuera', 'Valor Final': 1635060}, {'ID Loja': 'Shopping Iguatemi Fortaleza', 'Valor Final': 1674824}, {'ID Loja': 'Shopping Midway Mall', 'Valor Final': 1590441}, {'ID Loja': 'Shopping Morumbi', 'Valor Final': 1586444}, {'ID Loja': 'Shopping Recife', 'Valor Final': 1624879}, {'ID Loja': 'Shopping SP Market', 'Valor Final': 1721763}, {'ID Loja': 'Shopping Uni\\u00e3o de Osasco', 'Valor Final': 1663770}, {'ID Loja': 'Shopping Vila Velha', 'Valor Final': 1731167}]\"}\n"
     ]
    }
   ],
   "source": [
    "logger.info(f'{json.loads(faturamento_json)}')"
   ]
  },
  {
   "cell_type": "code",
   "execution_count": 13,
   "id": "26a7f00e",
   "metadata": {},
   "outputs": [
    {
     "name": "stdout",
     "output_type": "stream",
     "text": [
      "{\"message\": \"[{'ID Loja': 'Bourbon Shopping SP', 'Quantidade': 8863}, {'ID Loja': 'Center Shopping Uberl\\u00e2ndia', 'Quantidade': 8627}, {'ID Loja': 'Iguatemi Campinas', 'Quantidade': 8935}, {'ID Loja': 'Iguatemi Esplanada', 'Quantidade': 8580}, {'ID Loja': 'Norte Shopping', 'Quantidade': 9014}, {'ID Loja': 'Novo Shopping Ribeir\\u00e3o Preto', 'Quantidade': 8751}, {'ID Loja': 'Palladium Shopping Curitiba', 'Quantidade': 9091}, {'ID Loja': 'Parque Dom Pedro Shopping', 'Quantidade': 8388}, {'ID Loja': 'Passei das \\u00c1guas Shopping', 'Quantidade': 8618}, {'ID Loja': 'Ribeir\\u00e3o Shopping', 'Quantidade': 8825}, {'ID Loja': 'Rio Mar Recife', 'Quantidade': 8863}, {'ID Loja': 'Rio Mar Shopping Fortaleza', 'Quantidade': 8937}, {'ID Loja': 'Salvador Shopping', 'Quantidade': 8698}, {'ID Loja': 'Shopping Barra', 'Quantidade': 8638}, {'ID Loja': 'Shopping Center Interlagos', 'Quantidade': 8675}, {'ID Loja': 'Shopping Center Leste Aricanduva', 'Quantidade': 8938}, {'ID Loja': 'Shopping Eldorado', 'Quantidade': 8719}, {'ID Loja': 'Shopping Ibirapuera', 'Quantidade': 8723}, {'ID Loja': 'Shopping Iguatemi Fortaleza', 'Quantidade': 8629}, {'ID Loja': 'Shopping Midway Mall', 'Quantidade': 8206}, {'ID Loja': 'Shopping Morumbi', 'Quantidade': 8508}, {'ID Loja': 'Shopping Recife', 'Quantidade': 8581}, {'ID Loja': 'Shopping SP Market', 'Quantidade': 8927}, {'ID Loja': 'Shopping Uni\\u00e3o de Osasco', 'Quantidade': 8730}, {'ID Loja': 'Shopping Vila Velha', 'Quantidade': 9224}]\"}\n"
     ]
    }
   ],
   "source": [
    "logger.info(json.loads(quantidade_json))"
   ]
  },
  {
   "cell_type": "code",
   "execution_count": 14,
   "id": "762fd3a9",
   "metadata": {},
   "outputs": [
    {
     "name": "stdout",
     "output_type": "stream",
     "text": [
      "{\"message\": \"[{'index': 0, '0': 194.754597766}, {'index': 1, '0': 193.4532282369}, {'index': 2, '0': 197.2489087857}, {'index': 3, '0': 198.098018648}, {'index': 4, '0': 189.9232305303}, {'index': 5, '0': 191.7752256885}, {'index': 6, '0': 189.3213067869}, {'index': 7, '0': 194.5195517406}, {'index': 8, '0': 191.345323741}, {'index': 9, '0': 193.4415864023}, {'index': 10, '0': 194.377298883}, {'index': 11, '0': 190.0447577487}, {'index': 12, '0': 189.3238675558}, {'index': 13, '0': 191.3756656633}, {'index': 14, '0': 189.1050144092}, {'index': 15, '0': 188.2826135601}, {'index': 16, '0': 189.0252322514}, {'index': 17, '0': 187.4423936719}, {'index': 18, '0': 194.0924788504}, {'index': 19, '0': 193.8144040946}, {'index': 20, '0': 186.464974142}, {'index': 21, '0': 189.35776716}, {'index': 22, '0': 192.8714013666}, {'index': 23, '0': 190.5807560137}, {'index': 24, '0': 187.6807241977}]\"}\n"
     ]
    }
   ],
   "source": [
    "logger.info(json.loads(ticket_medio_json))"
   ]
  }
 ],
 "metadata": {
  "kernelspec": {
   "display_name": "Python 3 (ipykernel)",
   "language": "python",
   "name": "python3"
  },
  "language_info": {
   "codemirror_mode": {
    "name": "ipython",
    "version": 3
   },
   "file_extension": ".py",
   "mimetype": "text/x-python",
   "name": "python",
   "nbconvert_exporter": "python",
   "pygments_lexer": "ipython3",
   "version": "3.10.8"
  }
 },
 "nbformat": 4,
 "nbformat_minor": 5
}
